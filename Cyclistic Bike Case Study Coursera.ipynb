{
 "cells": [
  {
   "cell_type": "markdown",
   "id": "04e7ee11",
   "metadata": {},
   "source": [
    "# Case study: How does a bike-share navigate speedy success?\n",
    "\n",
    "### Scenario: \n",
    "You are a junior data analyst working on the marketing analyst team at Cyclistic, a bike-share company in Chicago. The director of marketing believes the company’s future success depends on maximizing the number of annual memberships. Therefore, your team wants to understand how casual riders and annual members use Cyclistic bikes differently. From these insights, your team will design a new marketing strategy to convert casual riders into annual members. But first, Cyclistic executives must approve your recommendations, so they must be backed up with compelling data insights and professional data visualizations.\n",
    "\n",
    "### Characters and teams: \n",
    "#### ● Lily Moreno: \n",
    "The director of marketing and your manager. Moreno is responsible for the development of campaigns and initiatives to promote the bike-share program. These may include email, social media, and other channels. \n",
    "#### ● Cyclistic marketing analytics team: \n",
    "A team of data analysts who are responsible for collecting, analyzing, and reporting data that helps guide Cyclistic marketing strategy. You joined this team six months ago and have been busy learning about Cyclistic’s mission and business goals—as well as how you, as a junior data analyst, can help Cyclistic achieve them.\n",
    "#### ● Cyclistic executive team: \n",
    "The notoriously detail-oriented executive team will decide whether to approve the recommended marketing program. \n",
    "\n",
    "## Do your research and explain your finding. Recommend what is the best course of action. "
   ]
  },
  {
   "cell_type": "markdown",
   "id": "afcff3da",
   "metadata": {},
   "source": [
    "\n",
    "\n",
    "\n",
    "# Code: "
   ]
  },
  {
   "cell_type": "code",
   "execution_count": 1,
   "id": "5600b857",
   "metadata": {},
   "outputs": [],
   "source": [
    "#import libraries \n",
    "import pandas as pd\n",
    "import numpy as np\n",
    "import datetime as dt\n",
    "import matplotlib.pyplot as plt\n",
    "%matplotlib inline"
   ]
  },
  {
   "cell_type": "code",
   "execution_count": 2,
   "id": "99c560c6",
   "metadata": {},
   "outputs": [],
   "source": [
    "#import data\n",
    "path = r\"C:\\Users\\billt\\Downloads\"\n",
    "file_name = \"202101-divvy-tripdata.csv\"\n",
    "file_path = r\"%s\\%s\" % (path, file_name)\n",
    "data = pd.read_csv(file_path)"
   ]
  },
  {
   "cell_type": "code",
   "execution_count": 3,
   "id": "eb0a86da",
   "metadata": {},
   "outputs": [
    {
     "data": {
      "text/html": [
       "<div>\n",
       "<style scoped>\n",
       "    .dataframe tbody tr th:only-of-type {\n",
       "        vertical-align: middle;\n",
       "    }\n",
       "\n",
       "    .dataframe tbody tr th {\n",
       "        vertical-align: top;\n",
       "    }\n",
       "\n",
       "    .dataframe thead th {\n",
       "        text-align: right;\n",
       "    }\n",
       "</style>\n",
       "<table border=\"1\" class=\"dataframe\">\n",
       "  <thead>\n",
       "    <tr style=\"text-align: right;\">\n",
       "      <th></th>\n",
       "      <th>ride_id</th>\n",
       "      <th>rideable_type</th>\n",
       "      <th>started_at</th>\n",
       "      <th>ended_at</th>\n",
       "      <th>start_station_name</th>\n",
       "      <th>start_station_id</th>\n",
       "      <th>end_station_name</th>\n",
       "      <th>end_station_id</th>\n",
       "      <th>start_lat</th>\n",
       "      <th>start_lng</th>\n",
       "      <th>end_lat</th>\n",
       "      <th>end_lng</th>\n",
       "      <th>member_casual</th>\n",
       "    </tr>\n",
       "  </thead>\n",
       "  <tbody>\n",
       "    <tr>\n",
       "      <th>0</th>\n",
       "      <td>E19E6F1B8D4C42ED</td>\n",
       "      <td>electric_bike</td>\n",
       "      <td>2021-01-23 16:14:19</td>\n",
       "      <td>2021-01-23 16:24:44</td>\n",
       "      <td>California Ave &amp; Cortez St</td>\n",
       "      <td>17660</td>\n",
       "      <td>NaN</td>\n",
       "      <td>NaN</td>\n",
       "      <td>41.900341</td>\n",
       "      <td>-87.696743</td>\n",
       "      <td>41.89</td>\n",
       "      <td>-87.72</td>\n",
       "      <td>member</td>\n",
       "    </tr>\n",
       "    <tr>\n",
       "      <th>1</th>\n",
       "      <td>DC88F20C2C55F27F</td>\n",
       "      <td>electric_bike</td>\n",
       "      <td>2021-01-27 18:43:08</td>\n",
       "      <td>2021-01-27 18:47:12</td>\n",
       "      <td>California Ave &amp; Cortez St</td>\n",
       "      <td>17660</td>\n",
       "      <td>NaN</td>\n",
       "      <td>NaN</td>\n",
       "      <td>41.900333</td>\n",
       "      <td>-87.696707</td>\n",
       "      <td>41.90</td>\n",
       "      <td>-87.69</td>\n",
       "      <td>member</td>\n",
       "    </tr>\n",
       "    <tr>\n",
       "      <th>2</th>\n",
       "      <td>EC45C94683FE3F27</td>\n",
       "      <td>electric_bike</td>\n",
       "      <td>2021-01-21 22:35:54</td>\n",
       "      <td>2021-01-21 22:37:14</td>\n",
       "      <td>California Ave &amp; Cortez St</td>\n",
       "      <td>17660</td>\n",
       "      <td>NaN</td>\n",
       "      <td>NaN</td>\n",
       "      <td>41.900313</td>\n",
       "      <td>-87.696643</td>\n",
       "      <td>41.90</td>\n",
       "      <td>-87.70</td>\n",
       "      <td>member</td>\n",
       "    </tr>\n",
       "    <tr>\n",
       "      <th>3</th>\n",
       "      <td>4FA453A75AE377DB</td>\n",
       "      <td>electric_bike</td>\n",
       "      <td>2021-01-07 13:31:13</td>\n",
       "      <td>2021-01-07 13:42:55</td>\n",
       "      <td>California Ave &amp; Cortez St</td>\n",
       "      <td>17660</td>\n",
       "      <td>NaN</td>\n",
       "      <td>NaN</td>\n",
       "      <td>41.900399</td>\n",
       "      <td>-87.696662</td>\n",
       "      <td>41.92</td>\n",
       "      <td>-87.69</td>\n",
       "      <td>member</td>\n",
       "    </tr>\n",
       "    <tr>\n",
       "      <th>4</th>\n",
       "      <td>BE5E8EB4E7263A0B</td>\n",
       "      <td>electric_bike</td>\n",
       "      <td>2021-01-23 02:24:02</td>\n",
       "      <td>2021-01-23 02:24:45</td>\n",
       "      <td>California Ave &amp; Cortez St</td>\n",
       "      <td>17660</td>\n",
       "      <td>NaN</td>\n",
       "      <td>NaN</td>\n",
       "      <td>41.900326</td>\n",
       "      <td>-87.696697</td>\n",
       "      <td>41.90</td>\n",
       "      <td>-87.70</td>\n",
       "      <td>casual</td>\n",
       "    </tr>\n",
       "  </tbody>\n",
       "</table>\n",
       "</div>"
      ],
      "text/plain": [
       "            ride_id  rideable_type           started_at             ended_at  \\\n",
       "0  E19E6F1B8D4C42ED  electric_bike  2021-01-23 16:14:19  2021-01-23 16:24:44   \n",
       "1  DC88F20C2C55F27F  electric_bike  2021-01-27 18:43:08  2021-01-27 18:47:12   \n",
       "2  EC45C94683FE3F27  electric_bike  2021-01-21 22:35:54  2021-01-21 22:37:14   \n",
       "3  4FA453A75AE377DB  electric_bike  2021-01-07 13:31:13  2021-01-07 13:42:55   \n",
       "4  BE5E8EB4E7263A0B  electric_bike  2021-01-23 02:24:02  2021-01-23 02:24:45   \n",
       "\n",
       "           start_station_name start_station_id end_station_name  \\\n",
       "0  California Ave & Cortez St            17660              NaN   \n",
       "1  California Ave & Cortez St            17660              NaN   \n",
       "2  California Ave & Cortez St            17660              NaN   \n",
       "3  California Ave & Cortez St            17660              NaN   \n",
       "4  California Ave & Cortez St            17660              NaN   \n",
       "\n",
       "  end_station_id  start_lat  start_lng  end_lat  end_lng member_casual  \n",
       "0            NaN  41.900341 -87.696743    41.89   -87.72        member  \n",
       "1            NaN  41.900333 -87.696707    41.90   -87.69        member  \n",
       "2            NaN  41.900313 -87.696643    41.90   -87.70        member  \n",
       "3            NaN  41.900399 -87.696662    41.92   -87.69        member  \n",
       "4            NaN  41.900326 -87.696697    41.90   -87.70        casual  "
      ]
     },
     "execution_count": 3,
     "metadata": {},
     "output_type": "execute_result"
    }
   ],
   "source": [
    "data.head()"
   ]
  },
  {
   "cell_type": "code",
   "execution_count": 4,
   "id": "2e8aa651",
   "metadata": {},
   "outputs": [],
   "source": [
    "#select columns used\n",
    "trim_data = data[[\"rideable_type\", \"started_at\", \"ended_at\", \"member_casual\"]]"
   ]
  },
  {
   "cell_type": "code",
   "execution_count": 5,
   "id": "f11b225c",
   "metadata": {},
   "outputs": [
    {
     "name": "stderr",
     "output_type": "stream",
     "text": [
      "<ipython-input-5-c88b3431efdc>:2: SettingWithCopyWarning: \n",
      "A value is trying to be set on a copy of a slice from a DataFrame.\n",
      "Try using .loc[row_indexer,col_indexer] = value instead\n",
      "\n",
      "See the caveats in the documentation: https://pandas.pydata.org/pandas-docs/stable/user_guide/indexing.html#returning-a-view-versus-a-copy\n",
      "  trim_data[\"started_at_dt\"] = pd.to_datetime(trim_data[\"started_at\"])\n",
      "<ipython-input-5-c88b3431efdc>:3: SettingWithCopyWarning: \n",
      "A value is trying to be set on a copy of a slice from a DataFrame.\n",
      "Try using .loc[row_indexer,col_indexer] = value instead\n",
      "\n",
      "See the caveats in the documentation: https://pandas.pydata.org/pandas-docs/stable/user_guide/indexing.html#returning-a-view-versus-a-copy\n",
      "  trim_data[\"ended_at_dt\"] = pd.to_datetime(trim_data[\"ended_at\"])\n"
     ]
    }
   ],
   "source": [
    "#add \"started_at_dt\" and \"ended_at_dt\" to trim_data\n",
    "trim_data[\"started_at_dt\"] = pd.to_datetime(trim_data[\"started_at\"])\n",
    "trim_data[\"ended_at_dt\"] = pd.to_datetime(trim_data[\"ended_at\"])"
   ]
  },
  {
   "cell_type": "code",
   "execution_count": 6,
   "id": "f0826e51",
   "metadata": {},
   "outputs": [
    {
     "name": "stderr",
     "output_type": "stream",
     "text": [
      "<ipython-input-6-8f3dce91bb3a>:2: SettingWithCopyWarning: \n",
      "A value is trying to be set on a copy of a slice from a DataFrame.\n",
      "Try using .loc[row_indexer,col_indexer] = value instead\n",
      "\n",
      "See the caveats in the documentation: https://pandas.pydata.org/pandas-docs/stable/user_guide/indexing.html#returning-a-view-versus-a-copy\n",
      "  trim_data[\"duration\"] = trim_data[\"ended_at_dt\"] - trim_data[\"started_at_dt\"]\n"
     ]
    }
   ],
   "source": [
    "#find the duration (also in date time format)\n",
    "trim_data[\"duration\"] = trim_data[\"ended_at_dt\"] - trim_data[\"started_at_dt\"]"
   ]
  },
  {
   "cell_type": "code",
   "execution_count": 7,
   "id": "e0da919f",
   "metadata": {
    "scrolled": true
   },
   "outputs": [
    {
     "data": {
      "text/html": [
       "<div>\n",
       "<style scoped>\n",
       "    .dataframe tbody tr th:only-of-type {\n",
       "        vertical-align: middle;\n",
       "    }\n",
       "\n",
       "    .dataframe tbody tr th {\n",
       "        vertical-align: top;\n",
       "    }\n",
       "\n",
       "    .dataframe thead th {\n",
       "        text-align: right;\n",
       "    }\n",
       "</style>\n",
       "<table border=\"1\" class=\"dataframe\">\n",
       "  <thead>\n",
       "    <tr style=\"text-align: right;\">\n",
       "      <th></th>\n",
       "      <th>rideable_type</th>\n",
       "      <th>started_at</th>\n",
       "      <th>ended_at</th>\n",
       "      <th>member_casual</th>\n",
       "      <th>started_at_dt</th>\n",
       "      <th>ended_at_dt</th>\n",
       "      <th>duration</th>\n",
       "    </tr>\n",
       "  </thead>\n",
       "  <tbody>\n",
       "    <tr>\n",
       "      <th>0</th>\n",
       "      <td>electric_bike</td>\n",
       "      <td>2021-01-23 16:14:19</td>\n",
       "      <td>2021-01-23 16:24:44</td>\n",
       "      <td>member</td>\n",
       "      <td>2021-01-23 16:14:19</td>\n",
       "      <td>2021-01-23 16:24:44</td>\n",
       "      <td>0 days 00:10:25</td>\n",
       "    </tr>\n",
       "    <tr>\n",
       "      <th>1</th>\n",
       "      <td>electric_bike</td>\n",
       "      <td>2021-01-27 18:43:08</td>\n",
       "      <td>2021-01-27 18:47:12</td>\n",
       "      <td>member</td>\n",
       "      <td>2021-01-27 18:43:08</td>\n",
       "      <td>2021-01-27 18:47:12</td>\n",
       "      <td>0 days 00:04:04</td>\n",
       "    </tr>\n",
       "    <tr>\n",
       "      <th>2</th>\n",
       "      <td>electric_bike</td>\n",
       "      <td>2021-01-21 22:35:54</td>\n",
       "      <td>2021-01-21 22:37:14</td>\n",
       "      <td>member</td>\n",
       "      <td>2021-01-21 22:35:54</td>\n",
       "      <td>2021-01-21 22:37:14</td>\n",
       "      <td>0 days 00:01:20</td>\n",
       "    </tr>\n",
       "    <tr>\n",
       "      <th>3</th>\n",
       "      <td>electric_bike</td>\n",
       "      <td>2021-01-07 13:31:13</td>\n",
       "      <td>2021-01-07 13:42:55</td>\n",
       "      <td>member</td>\n",
       "      <td>2021-01-07 13:31:13</td>\n",
       "      <td>2021-01-07 13:42:55</td>\n",
       "      <td>0 days 00:11:42</td>\n",
       "    </tr>\n",
       "    <tr>\n",
       "      <th>4</th>\n",
       "      <td>electric_bike</td>\n",
       "      <td>2021-01-23 02:24:02</td>\n",
       "      <td>2021-01-23 02:24:45</td>\n",
       "      <td>casual</td>\n",
       "      <td>2021-01-23 02:24:02</td>\n",
       "      <td>2021-01-23 02:24:45</td>\n",
       "      <td>0 days 00:00:43</td>\n",
       "    </tr>\n",
       "  </tbody>\n",
       "</table>\n",
       "</div>"
      ],
      "text/plain": [
       "   rideable_type           started_at             ended_at member_casual  \\\n",
       "0  electric_bike  2021-01-23 16:14:19  2021-01-23 16:24:44        member   \n",
       "1  electric_bike  2021-01-27 18:43:08  2021-01-27 18:47:12        member   \n",
       "2  electric_bike  2021-01-21 22:35:54  2021-01-21 22:37:14        member   \n",
       "3  electric_bike  2021-01-07 13:31:13  2021-01-07 13:42:55        member   \n",
       "4  electric_bike  2021-01-23 02:24:02  2021-01-23 02:24:45        casual   \n",
       "\n",
       "        started_at_dt         ended_at_dt        duration  \n",
       "0 2021-01-23 16:14:19 2021-01-23 16:24:44 0 days 00:10:25  \n",
       "1 2021-01-27 18:43:08 2021-01-27 18:47:12 0 days 00:04:04  \n",
       "2 2021-01-21 22:35:54 2021-01-21 22:37:14 0 days 00:01:20  \n",
       "3 2021-01-07 13:31:13 2021-01-07 13:42:55 0 days 00:11:42  \n",
       "4 2021-01-23 02:24:02 2021-01-23 02:24:45 0 days 00:00:43  "
      ]
     },
     "execution_count": 7,
     "metadata": {},
     "output_type": "execute_result"
    }
   ],
   "source": [
    "trim_data.head()"
   ]
  },
  {
   "cell_type": "code",
   "execution_count": 8,
   "id": "4233a289",
   "metadata": {},
   "outputs": [
    {
     "data": {
      "text/html": [
       "<div>\n",
       "<style scoped>\n",
       "    .dataframe tbody tr th:only-of-type {\n",
       "        vertical-align: middle;\n",
       "    }\n",
       "\n",
       "    .dataframe tbody tr th {\n",
       "        vertical-align: top;\n",
       "    }\n",
       "\n",
       "    .dataframe thead th {\n",
       "        text-align: right;\n",
       "    }\n",
       "</style>\n",
       "<table border=\"1\" class=\"dataframe\">\n",
       "  <thead>\n",
       "    <tr style=\"text-align: right;\">\n",
       "      <th></th>\n",
       "      <th>rideable_type</th>\n",
       "      <th>started_at</th>\n",
       "      <th>ended_at</th>\n",
       "      <th>member_casual</th>\n",
       "      <th>started_at_dt</th>\n",
       "      <th>ended_at_dt</th>\n",
       "      <th>duration</th>\n",
       "    </tr>\n",
       "  </thead>\n",
       "  <tbody>\n",
       "    <tr>\n",
       "      <th>73670</th>\n",
       "      <td>electric_bike</td>\n",
       "      <td>2021-01-01 00:02:05</td>\n",
       "      <td>2021-01-01 00:12:39</td>\n",
       "      <td>member</td>\n",
       "      <td>2021-01-01 00:02:05</td>\n",
       "      <td>2021-01-01 00:12:39</td>\n",
       "      <td>0 days 00:10:34</td>\n",
       "    </tr>\n",
       "    <tr>\n",
       "      <th>78336</th>\n",
       "      <td>classic_bike</td>\n",
       "      <td>2021-01-01 00:02:24</td>\n",
       "      <td>2021-01-01 00:08:39</td>\n",
       "      <td>member</td>\n",
       "      <td>2021-01-01 00:02:24</td>\n",
       "      <td>2021-01-01 00:08:39</td>\n",
       "      <td>0 days 00:06:15</td>\n",
       "    </tr>\n",
       "    <tr>\n",
       "      <th>39961</th>\n",
       "      <td>classic_bike</td>\n",
       "      <td>2021-01-01 00:06:55</td>\n",
       "      <td>2021-01-01 00:26:36</td>\n",
       "      <td>member</td>\n",
       "      <td>2021-01-01 00:06:55</td>\n",
       "      <td>2021-01-01 00:26:36</td>\n",
       "      <td>0 days 00:19:41</td>\n",
       "    </tr>\n",
       "    <tr>\n",
       "      <th>34046</th>\n",
       "      <td>electric_bike</td>\n",
       "      <td>2021-01-01 00:12:13</td>\n",
       "      <td>2021-01-01 00:20:06</td>\n",
       "      <td>member</td>\n",
       "      <td>2021-01-01 00:12:13</td>\n",
       "      <td>2021-01-01 00:20:06</td>\n",
       "      <td>0 days 00:07:53</td>\n",
       "    </tr>\n",
       "    <tr>\n",
       "      <th>33916</th>\n",
       "      <td>classic_bike</td>\n",
       "      <td>2021-01-01 00:12:21</td>\n",
       "      <td>2021-01-01 00:12:33</td>\n",
       "      <td>member</td>\n",
       "      <td>2021-01-01 00:12:21</td>\n",
       "      <td>2021-01-01 00:12:33</td>\n",
       "      <td>0 days 00:00:12</td>\n",
       "    </tr>\n",
       "  </tbody>\n",
       "</table>\n",
       "</div>"
      ],
      "text/plain": [
       "       rideable_type           started_at             ended_at member_casual  \\\n",
       "73670  electric_bike  2021-01-01 00:02:05  2021-01-01 00:12:39        member   \n",
       "78336   classic_bike  2021-01-01 00:02:24  2021-01-01 00:08:39        member   \n",
       "39961   classic_bike  2021-01-01 00:06:55  2021-01-01 00:26:36        member   \n",
       "34046  electric_bike  2021-01-01 00:12:13  2021-01-01 00:20:06        member   \n",
       "33916   classic_bike  2021-01-01 00:12:21  2021-01-01 00:12:33        member   \n",
       "\n",
       "            started_at_dt         ended_at_dt        duration  \n",
       "73670 2021-01-01 00:02:05 2021-01-01 00:12:39 0 days 00:10:34  \n",
       "78336 2021-01-01 00:02:24 2021-01-01 00:08:39 0 days 00:06:15  \n",
       "39961 2021-01-01 00:06:55 2021-01-01 00:26:36 0 days 00:19:41  \n",
       "34046 2021-01-01 00:12:13 2021-01-01 00:20:06 0 days 00:07:53  \n",
       "33916 2021-01-01 00:12:21 2021-01-01 00:12:33 0 days 00:00:12  "
      ]
     },
     "execution_count": 8,
     "metadata": {},
     "output_type": "execute_result"
    }
   ],
   "source": [
    "#sort by start_time small to large\n",
    "trim_data_sorted = trim_data.sort_values(\"started_at_dt\")\n",
    "trim_data_sorted.head()"
   ]
  },
  {
   "cell_type": "code",
   "execution_count": 9,
   "id": "6cf62b8e",
   "metadata": {},
   "outputs": [],
   "source": [
    "#seperate data into member and non-member, classical bike and electric bike\n",
    "member_data = trim_data[trim_data[\"member_casual\"] == \"member\"]\n",
    "non_member_data = trim_data[trim_data[\"member_casual\"] == \"casual\"]\n",
    "\n",
    "member_data_classical = member_data[member_data[\"rideable_type\"] == \"classic_bike\"]\n",
    "member_data_electric = member_data[member_data[\"rideable_type\"] == \"electric_bike\"]\n",
    "\n",
    "non_member_data_classical = non_member_data[non_member_data[\"rideable_type\"] == \"classic_bike\"]\n",
    "non_member_data_electric = non_member_data[non_member_data[\"rideable_type\"] == \"electric_bike\"]"
   ]
  },
  {
   "cell_type": "code",
   "execution_count": 10,
   "id": "a33baac8",
   "metadata": {},
   "outputs": [
    {
     "data": {
      "image/png": "[encoded data removed]",
      "text/plain": [
       "<Figure size 288x576 with 1 Axes>"
      ]
     },
     "metadata": {
      "needs_background": "light"
     },
     "output_type": "display_data"
    }
   ],
   "source": [
    "#find total classical biking time vs electric biking time\n",
    "total_sum_classical = member_data_classical[\"duration\"].dt.total_seconds().sum() / 60\n",
    "total_sum_electric = member_data_electric[\"duration\"].dt.total_seconds().sum() / 60\n",
    "\n",
    "#plotting time of classical riding vs electric riding\n",
    "plt.figure(figsize=(4, 8))\n",
    "plt.bar(['Classical Bike', 'Electric Bike'], [total_sum_classical, total_sum_electric], color=['blue', 'orange'])\n",
    "plt.title('Sum of Classical Riding vs. Electric Riding')\n",
    "plt.xlabel('Rideable Type')\n",
    "plt.ylabel('Total Duration (minutes)')\n",
    "plt.show()"
   ]
  },
  {
   "cell_type": "code",
   "execution_count": 11,
   "id": "ad3ba742",
   "metadata": {},
   "outputs": [
    {
     "data": {
      "image/png": "[encoded data removed]",
      "text/plain": [
       "<Figure size 288x576 with 1 Axes>"
      ]
     },
     "metadata": {
      "needs_background": "light"
     },
     "output_type": "display_data"
    }
   ],
   "source": [
    "#find number of members and non-members\n",
    "total_count_members = member_data.shape[0]\n",
    "total_count_non_members = non_member_data.shape[0]\n",
    "\n",
    "#plotting number of members vs non-members\n",
    "plt.figure(figsize=(4, 8))\n",
    "plt.bar(['Members', 'Non-Members'], [total_count_members, total_count_non_members], color=['blue', 'orange'])\n",
    "plt.title('Number of Members vs. Non-Members')\n",
    "plt.xlabel('Member Type')\n",
    "plt.ylabel('Count')\n",
    "\n",
    "plt.show()"
   ]
  },
  {
   "cell_type": "code",
   "execution_count": 12,
   "id": "01aaac7c",
   "metadata": {},
   "outputs": [
    {
     "data": {
      "image/png": "[encoded data removed]",
      "text/plain": [
       "<Figure size 288x576 with 1 Axes>"
      ]
     },
     "metadata": {
      "needs_background": "light"
     },
     "output_type": "display_data"
    }
   ],
   "source": [
    "#find sum of members riding time vs non members riding time\n",
    "total_sum_members = member_data[\"duration\"].dt.total_seconds().sum() / 60\n",
    "total_sum_non_members = non_member_data[\"duration\"].dt.total_seconds().sum() / 60\n",
    "\n",
    "#plotting ...\n",
    "plt.figure(figsize=(4, 8))\n",
    "plt.bar(['Members', 'Non-Members'], [total_sum_members, total_sum_non_members], color=['blue', 'orange'])\n",
    "#plt.title('Total Sum of Members\\' Riding vs. Non-Members\\' Riding')\n",
    "plt.xlabel('Member Type')\n",
    "plt.ylabel('Total Duration (minutes)')\n",
    "plt.title('Member vs Non-member Total Duration Cycled')\n",
    "plt.ticklabel_format(style='plain', axis='y')\n",
    "plt.show()"
   ]
  },
  {
   "cell_type": "markdown",
   "id": "6b9d367f",
   "metadata": {},
   "source": [
    "# Conclusion\n",
    "### No. of Members vs Non-members:\n",
    "The graph reveals that a large majority of bike riders are members, with a comparatively lower number of non-members using the bikes. Therefore, prioritizing to convert non-members into members may not be the most effective strategy.\n",
    "\n",
    "### Preference for Classical Bikes:\n",
    "The data indicates that more classical bikes are used among bike riders. It may be because of their preference, or perhaps electric bikes are not that common yet. Further research can be done to see if prioritizing the availability and promotion of classical bikes is recommended. \n",
    "\n",
    "### Potential Insights for Further Investigation: \n",
    "Despite the lower number of non-members riding, their individual ride durations contribute approximately one-third of the total duration. This suggests a hypothesis that non-members might not ride frequently, but when they do, they tend to ride for an extended period. Further research could explore the factors influencing non-members' sporadic but extended bike rides.\n"
   ]
  },
  {
   "cell_type": "code",
   "execution_count": null,
   "id": "f57b416f",
   "metadata": {},
   "outputs": [],
   "source": []
  }
 ],
 "metadata": {
  "kernelspec": {
   "display_name": "Python 3",
   "language": "python",
   "name": "python3"
  },
  "language_info": {
   "codemirror_mode": {
    "name": "ipython",
    "version": 3
   },
   "file_extension": ".py",
   "mimetype": "text/x-python",
   "name": "python",
   "nbconvert_exporter": "python",
   "pygments_lexer": "ipython3",
   "version": "3.8.8"
  }
 },
 "nbformat": 4,
 "nbformat_minor": 5
}
